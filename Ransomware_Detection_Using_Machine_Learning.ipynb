{
  "cells": [
    {
      "cell_type": "code",
      "execution_count": 49,
      "metadata": {
        "id": "QIUWy0_NPbv4"
      },
      "outputs": [],
      "source": [
        "import pandas as pd"
      ]
    },
    {
      "cell_type": "code",
      "execution_count": 51,
      "metadata": {
        "id": "n6ze8e48TRvI"
      },
      "outputs": [],
      "source": [
        "df = pd.read_csv(\"Android_Ransomeware.csv\")"
      ]
    },
    {
      "cell_type": "code",
      "execution_count": 52,
      "metadata": {},
      "outputs": [],
      "source": [
        "df = df.dropna()"
      ]
    },
    {
      "cell_type": "code",
      "execution_count": 37,
      "metadata": {},
      "outputs": [],
      "source": [
        "fraction_to_keep = 0.27\n",
        "\n",
        "# Randomly sample a fraction of the data\n",
        "df = df.sample(frac=fraction_to_keep, random_state=1)"
      ]
    },
    {
      "cell_type": "code",
      "execution_count": 53,
      "metadata": {},
      "outputs": [
        {
          "name": "stdout",
          "output_type": "stream",
          "text": [
            "<class 'pandas.core.frame.DataFrame'>\n",
            "RangeIndex: 392034 entries, 0 to 392033\n",
            "Data columns (total 74 columns):\n",
            " #   Column                        Non-Null Count   Dtype  \n",
            "---  ------                        --------------   -----  \n",
            " 0    Total Length of Bwd Packets  392034 non-null  int64  \n",
            " 1    Fwd Packet Length Max        392034 non-null  int64  \n",
            " 2    Fwd Packet Length Min        392034 non-null  int64  \n",
            " 3    Fwd Packet Length Mean       392034 non-null  float64\n",
            " 4    Fwd Packet Length Std        392034 non-null  float64\n",
            " 5   Bwd Packet Length Max         392034 non-null  int64  \n",
            " 6    Bwd Packet Length Min        392034 non-null  int64  \n",
            " 7    Bwd Packet Length Mean       392034 non-null  float64\n",
            " 8    Bwd Packet Length Std        392034 non-null  float64\n",
            " 9   Flow Bytes/s                  392034 non-null  float64\n",
            " 10   Flow Packets/s               392034 non-null  float64\n",
            " 11   Flow IAT Mean                392034 non-null  float64\n",
            " 12   Flow IAT Std                 392034 non-null  float64\n",
            " 13   Flow IAT Max                 392034 non-null  int64  \n",
            " 14   Flow IAT Min                 392034 non-null  int64  \n",
            " 15  Fwd IAT Total                 392034 non-null  int64  \n",
            " 16   Fwd IAT Mean                 392034 non-null  float64\n",
            " 17   Fwd IAT Std                  392034 non-null  float64\n",
            " 18   Fwd IAT Max                  392034 non-null  int64  \n",
            " 19   Fwd IAT Min                  392034 non-null  int64  \n",
            " 20  Bwd IAT Total                 392034 non-null  int64  \n",
            " 21   Bwd IAT Mean                 392034 non-null  float64\n",
            " 22   Bwd IAT Std                  392034 non-null  float64\n",
            " 23   Bwd IAT Max                  392034 non-null  int64  \n",
            " 24   Bwd IAT Min                  392034 non-null  int64  \n",
            " 25  Fwd PSH Flags                 392034 non-null  int64  \n",
            " 26   Bwd PSH Flags                392034 non-null  int64  \n",
            " 27   Fwd URG Flags                392034 non-null  int64  \n",
            " 28   Bwd URG Flags                392034 non-null  int64  \n",
            " 29   Fwd Header Length            392034 non-null  int64  \n",
            " 30   Bwd Header Length            392034 non-null  int64  \n",
            " 31  Fwd Packets/s                 392034 non-null  float64\n",
            " 32   Bwd Packets/s                392034 non-null  float64\n",
            " 33   Min Packet Length            392034 non-null  int64  \n",
            " 34   Max Packet Length            392034 non-null  int64  \n",
            " 35   Packet Length Mean           392034 non-null  float64\n",
            " 36   Packet Length Std            392034 non-null  float64\n",
            " 37   Packet Length Variance       392034 non-null  float64\n",
            " 38  FIN Flag Count                392034 non-null  int64  \n",
            " 39   SYN Flag Count               392034 non-null  int64  \n",
            " 40   RST Flag Count               392034 non-null  int64  \n",
            " 41   PSH Flag Count               392034 non-null  int64  \n",
            " 42   ACK Flag Count               392034 non-null  int64  \n",
            " 43   URG Flag Count               392034 non-null  int64  \n",
            " 44   CWE Flag Count               392034 non-null  int64  \n",
            " 45   ECE Flag Count               392034 non-null  int64  \n",
            " 46   Down/Up Ratio                392034 non-null  int64  \n",
            " 47   Average Packet Size          392034 non-null  float64\n",
            " 48   Avg Fwd Segment Size         392034 non-null  float64\n",
            " 49   Avg Bwd Segment Size         392034 non-null  float64\n",
            " 50   Fwd Header Length.1          392034 non-null  int64  \n",
            " 51  Fwd Avg Bytes/Bulk            392034 non-null  int64  \n",
            " 52   Fwd Avg Packets/Bulk         392034 non-null  int64  \n",
            " 53   Fwd Avg Bulk Rate            392034 non-null  int64  \n",
            " 54   Bwd Avg Bytes/Bulk           392034 non-null  int64  \n",
            " 55   Bwd Avg Packets/Bulk         392034 non-null  int64  \n",
            " 56  Bwd Avg Bulk Rate             392034 non-null  int64  \n",
            " 57  Subflow Fwd Packets           392034 non-null  int64  \n",
            " 58   Subflow Fwd Bytes            392034 non-null  int64  \n",
            " 59   Subflow Bwd Packets          392034 non-null  int64  \n",
            " 60   Subflow Bwd Bytes            392034 non-null  int64  \n",
            " 61  Init_Win_bytes_forward        392034 non-null  int64  \n",
            " 62   Init_Win_bytes_backward      392034 non-null  int64  \n",
            " 63   act_data_pkt_fwd             392034 non-null  int64  \n",
            " 64   min_seg_size_forward         392034 non-null  int64  \n",
            " 65  Active Mean                   392034 non-null  float64\n",
            " 66   Active Std                   392034 non-null  float64\n",
            " 67   Active Max                   392034 non-null  int64  \n",
            " 68   Active Min                   392034 non-null  int64  \n",
            " 69  Idle Mean                     392034 non-null  float64\n",
            " 70   Idle Std                     392034 non-null  float64\n",
            " 71   Idle Max                     392034 non-null  int64  \n",
            " 72   Idle Min                     392034 non-null  int64  \n",
            " 73  Label                         392034 non-null  object \n",
            "dtypes: float64(24), int64(49), object(1)\n",
            "memory usage: 221.3+ MB\n"
          ]
        }
      ],
      "source": [
        "df.info()"
      ]
    },
    {
      "cell_type": "code",
      "execution_count": 39,
      "metadata": {},
      "outputs": [],
      "source": [
        "df = df.drop(df.columns[0], axis=1)\n"
      ]
    },
    {
      "cell_type": "code",
      "execution_count": 54,
      "metadata": {},
      "outputs": [
        {
          "data": {
            "text/plain": [
              "Index([' Total Length of Bwd Packets', ' Fwd Packet Length Max',\n",
              "       ' Fwd Packet Length Min', ' Fwd Packet Length Mean',\n",
              "       ' Fwd Packet Length Std', 'Bwd Packet Length Max',\n",
              "       ' Bwd Packet Length Min', ' Bwd Packet Length Mean',\n",
              "       ' Bwd Packet Length Std', 'Flow Bytes/s', ' Flow Packets/s',\n",
              "       ' Flow IAT Mean', ' Flow IAT Std', ' Flow IAT Max', ' Flow IAT Min',\n",
              "       'Fwd IAT Total', ' Fwd IAT Mean', ' Fwd IAT Std', ' Fwd IAT Max',\n",
              "       ' Fwd IAT Min', 'Bwd IAT Total', ' Bwd IAT Mean', ' Bwd IAT Std',\n",
              "       ' Bwd IAT Max', ' Bwd IAT Min', 'Fwd PSH Flags', ' Bwd PSH Flags',\n",
              "       ' Fwd URG Flags', ' Bwd URG Flags', ' Fwd Header Length',\n",
              "       ' Bwd Header Length', 'Fwd Packets/s', ' Bwd Packets/s',\n",
              "       ' Min Packet Length', ' Max Packet Length', ' Packet Length Mean',\n",
              "       ' Packet Length Std', ' Packet Length Variance', 'FIN Flag Count',\n",
              "       ' SYN Flag Count', ' RST Flag Count', ' PSH Flag Count',\n",
              "       ' ACK Flag Count', ' URG Flag Count', ' CWE Flag Count',\n",
              "       ' ECE Flag Count', ' Down/Up Ratio', ' Average Packet Size',\n",
              "       ' Avg Fwd Segment Size', ' Avg Bwd Segment Size',\n",
              "       ' Fwd Header Length.1', 'Fwd Avg Bytes/Bulk', ' Fwd Avg Packets/Bulk',\n",
              "       ' Fwd Avg Bulk Rate', ' Bwd Avg Bytes/Bulk', ' Bwd Avg Packets/Bulk',\n",
              "       'Bwd Avg Bulk Rate', 'Subflow Fwd Packets', ' Subflow Fwd Bytes',\n",
              "       ' Subflow Bwd Packets', ' Subflow Bwd Bytes', 'Init_Win_bytes_forward',\n",
              "       ' Init_Win_bytes_backward', ' act_data_pkt_fwd',\n",
              "       ' min_seg_size_forward', 'Active Mean', ' Active Std', ' Active Max',\n",
              "       ' Active Min', 'Idle Mean', ' Idle Std', ' Idle Max', ' Idle Min',\n",
              "       'Label'],\n",
              "      dtype='object')"
            ]
          },
          "execution_count": 54,
          "metadata": {},
          "output_type": "execute_result"
        }
      ],
      "source": [
        "df.columns"
      ]
    },
    {
      "cell_type": "code",
      "execution_count": null,
      "metadata": {
        "colab": {
          "base_uri": "https://localhost:8080/"
        },
        "id": "hVg_iFlcPlvu",
        "outputId": "a0e35ede-78a8-4865-cc0a-73e00dbf888d"
      },
      "outputs": [
        {
          "data": {
            "text/plain": [
              "array(['Benign', 'Charger', 'Jisut', 'Koler', 'Lockerpin', 'Pletor',\n",
              "       'PornDroid', 'RansomBO', 'Simplocker', 'SVpeng', 'WannaLocker'],\n",
              "      dtype=object)"
            ]
          },
          "execution_count": 7,
          "metadata": {},
          "output_type": "execute_result"
        }
      ],
      "source": [
        "df['Label'].unique()"
      ]
    },
    {
      "cell_type": "code",
      "execution_count": null,
      "metadata": {
        "id": "rTAeX-spRH_F"
      },
      "outputs": [],
      "source": [
        "df.info()"
      ]
    },
    {
      "cell_type": "code",
      "execution_count": 11,
      "metadata": {
        "colab": {
          "base_uri": "https://localhost:8080/"
        },
        "id": "bTbllzkVToOR",
        "outputId": "b0ddf2e2-83c5-4f37-e574-026b1b4238e7"
      },
      "outputs": [
        {
          "name": "stdout",
          "output_type": "stream",
          "text": [
            "['Flow ID', ' Source IP', ' Destination IP', ' Timestamp', 'Label']\n"
          ]
        }
      ],
      "source": [
        "print(df.select_dtypes(include=['object']).columns.tolist())"
      ]
    },
    {
      "cell_type": "code",
      "execution_count": 20,
      "metadata": {},
      "outputs": [
        {
          "name": "stdout",
          "output_type": "stream",
          "text": [
            "Label_Encoded                   1.000000\n",
            " Fwd IAT Max                    0.062225\n",
            " Fwd IAT Std                    0.055474\n",
            " Flow IAT Max                   0.050909\n",
            " Flow IAT Std                   0.046542\n",
            "Fwd IAT Total                   0.043260\n",
            " Flow IAT Mean                  0.040639\n",
            " Fwd IAT Mean                   0.040617\n",
            " Flow Duration                  0.039741\n",
            " Fwd Packet Length Max          0.035355\n",
            " Idle Min                       0.034722\n",
            " Max Packet Length              0.034276\n",
            "Idle Mean                       0.032947\n",
            " Idle Max                       0.030517\n",
            " Packet Length Variance         0.029236\n",
            " Bwd Packets/s                  0.025356\n",
            " Flow IAT Min                   0.024085\n",
            " Fwd Packet Length Std          0.020716\n",
            "Fwd PSH Flags                   0.020556\n",
            " SYN Flag Count                 0.020556\n",
            " Fwd IAT Min                    0.019376\n",
            " Flow Packets/s                 0.019177\n",
            "FIN Flag Count                  0.018703\n",
            "Flow Bytes/s                    0.017558\n",
            " Packet Length Std              0.015664\n",
            " Bwd IAT Mean                   0.015588\n",
            " Bwd IAT Min                    0.014808\n",
            "Fwd Packets/s                   0.014287\n",
            " Bwd Packet Length Min          0.013675\n",
            " Packet Length Mean             0.013294\n",
            " Average Packet Size            0.013116\n",
            " Bwd Packet Length Std          0.012625\n",
            " URG Flag Count                 0.012597\n",
            "Bwd Packet Length Max           0.012214\n",
            "Bwd IAT Total                   0.012026\n",
            " Bwd IAT Max                    0.010999\n",
            " Fwd Packet Length Mean         0.010978\n",
            " Avg Fwd Segment Size           0.010978\n",
            " Min Packet Length              0.010925\n",
            " Protocol                       0.010711\n",
            " Total Fwd Packets              0.010548\n",
            "Subflow Fwd Packets             0.010548\n",
            " Down/Up Ratio                  0.009764\n",
            " Init_Win_bytes_backward        0.008885\n",
            " ACK Flag Count                 0.008514\n",
            "Active Mean                     0.008133\n",
            " Active Max                     0.007432\n",
            " Idle Std                       0.007030\n",
            " Bwd IAT Std                    0.006595\n",
            " Active Min                     0.006466\n",
            " PSH Flag Count                 0.006205\n",
            "Init_Win_bytes_forward          0.005596\n",
            " Destination Port               0.005289\n",
            " Bwd Packet Length Mean         0.004640\n",
            " Avg Bwd Segment Size           0.004640\n",
            " Fwd Packet Length Min          0.002805\n",
            " Fwd Header Length.1            0.002790\n",
            " Fwd Header Length              0.002790\n",
            " Total Backward Packets         0.002790\n",
            " Subflow Bwd Packets            0.002790\n",
            " Bwd Header Length              0.002727\n",
            " min_seg_size_forward           0.002666\n",
            " Subflow Fwd Bytes              0.002408\n",
            "Total Length of Fwd Packets     0.002408\n",
            " Active Std                     0.002165\n",
            " act_data_pkt_fwd               0.001605\n",
            " Subflow Bwd Bytes              0.000776\n",
            " Total Length of Bwd Packets    0.000776\n",
            " Source Port                    0.000389\n",
            " Bwd PSH Flags                       NaN\n",
            " Fwd URG Flags                       NaN\n",
            " Bwd URG Flags                       NaN\n",
            " RST Flag Count                      NaN\n",
            " CWE Flag Count                      NaN\n",
            " ECE Flag Count                      NaN\n",
            "Fwd Avg Bytes/Bulk                   NaN\n",
            " Fwd Avg Packets/Bulk                NaN\n",
            " Fwd Avg Bulk Rate                   NaN\n",
            " Bwd Avg Bytes/Bulk                  NaN\n",
            " Bwd Avg Packets/Bulk                NaN\n",
            "Bwd Avg Bulk Rate                    NaN\n",
            "dtype: float64\n"
          ]
        }
      ],
      "source": [
        "# Encode the target variable 'Label'\n",
        "from sklearn.preprocessing import LabelEncoder\n",
        "\n",
        "# Set display options to show all rows and columns\n",
        "pd.set_option('display.max_rows', None)\n",
        "pd.set_option('display.max_columns', None)\n",
        "\n",
        "label_encoder = LabelEncoder()\n",
        "df['Label_Encoded'] = label_encoder.fit_transform(df['Label'])\n",
        "\n",
        "# Drop irrelevant columns (if any)\n",
        "# For example, if 'Flow ID', 'Source IP', 'Destination IP', and 'Timestamp' are irrelevant for the model\n",
        "df.drop(['Flow ID', ' Source IP', ' Destination IP', ' Timestamp', 'Label'], axis=1, inplace=True)\n",
        "\n",
        "# Calculate the correlation between each feature and the target variable\n",
        "correlation_with_target = df.corrwith(df['Label_Encoded']).abs().sort_values(ascending=False)\n",
        "\n",
        "# Print the correlation values\n",
        "print(correlation_with_target)"
      ]
    },
    {
      "cell_type": "code",
      "execution_count": null,
      "metadata": {},
      "outputs": [],
      "source": [
        "df['Bwd PSH Flags'].info()"
      ]
    },
    {
      "cell_type": "code",
      "execution_count": 56,
      "metadata": {
        "id": "BKr54tMvRYCx"
      },
      "outputs": [],
      "source": [
        "from sklearn.model_selection import train_test_split\n",
        "from sklearn.preprocessing import LabelEncoder\n",
        "from sklearn.ensemble import RandomForestClassifier\n",
        "from sklearn.svm import SVC\n",
        "from sklearn.metrics import confusion_matrix, accuracy_score, precision_score, recall_score, f1_score\n",
        "from sklearn.feature_selection import RFE\n",
        "\n",
        "# Assuming you have already loaded the DataFrame 'df'\n",
        "# df = pd.read_csv(\"your_dataset.csv\")\n",
        "\n",
        "# Encode the target variable 'Label'\n",
        "label_encoder = LabelEncoder()\n",
        "df['Label_Encoded'] = label_encoder.fit_transform(df['Label'])\n",
        "\n",
        "# Split the data into features (X) and target variable (y)\n",
        "X = df.drop(['Label', 'Label_Encoded'], axis=1)\n",
        "y = df['Label_Encoded']\n",
        "\n",
        "# Split the data into training and testing sets\n",
        "X_train, X_test, y_train, y_test = train_test_split(X, y, test_size=0.2, random_state=42)\n",
        "\n",
        "# Random Forest model\n",
        "rf_model = RandomForestClassifier(random_state = 42)\n",
        "rf_model.fit(X_train, y_train)\n",
        "rf_preds = rf_model.predict(X_test)\n",
        "\n",
        "# SVM model\n",
        "svm_model = SVC()\n",
        "svm_model.fit(X_train, y_train)\n",
        "svm_preds = svm_model.predict(X_test)\n",
        "\n",
        "# Decode the predicted labels back to original string labels\n",
        "rf_preds_labels = label_encoder.inverse_transform(rf_preds)\n",
        "svm_preds_labels = label_encoder.inverse_transform(svm_preds)"
      ]
    },
    {
      "cell_type": "code",
      "execution_count": 43,
      "metadata": {
        "id": "vsrpF5v0TF6c"
      },
      "outputs": [
        {
          "name": "stdout",
          "output_type": "stream",
          "text": [
            "Random Forest Model:\n",
            "Accuracy: 0.3155880963627775\n",
            "Precision: 0.3084370277190041\n",
            "Recall: 0.3155880963627775\n",
            "F1-score: 0.31102275833675963\n",
            "\n",
            "\n",
            "SVM Model:\n",
            "Accuracy: 0.158715162966462\n",
            "Precision: 0.18023196391956334\n",
            "Recall: 0.158715162966462\n",
            "F1-score: 0.09620536594711253\n"
          ]
        }
      ],
      "source": [
        "# Evaluate Random Forest model\n",
        "rf_accuracy = accuracy_score(y_test, rf_preds)\n",
        "rf_precision = precision_score(y_test, rf_preds, average='weighted')\n",
        "rf_recall = recall_score(y_test, rf_preds, average='weighted')\n",
        "rf_f1 = f1_score(y_test, rf_preds, average='weighted')\n",
        "\n",
        "# Evaluate SVM model\n",
        "svm_accuracy = accuracy_score(y_test, svm_preds)\n",
        "svm_precision = precision_score(y_test, svm_preds, average='weighted')\n",
        "svm_recall = recall_score(y_test, svm_preds, average='weighted')\n",
        "svm_f1 = f1_score(y_test, svm_preds, average='weighted')\n",
        "\n",
        "# Print the results\n",
        "print(\"Random Forest Model:\")\n",
        "print(\"Accuracy:\", rf_accuracy)\n",
        "print(\"Precision:\", rf_precision)\n",
        "print(\"Recall:\", rf_recall)\n",
        "print(\"F1-score:\", rf_f1)\n",
        "print(\"\\n\")\n",
        "\n",
        "print(\"SVM Model:\")\n",
        "print(\"Accuracy:\", svm_accuracy)\n",
        "print(\"Precision:\", svm_precision)\n",
        "print(\"Recall:\", svm_recall)\n",
        "print(\"F1-score:\", svm_f1)"
      ]
    }
  ],
  "metadata": {
    "accelerator": "GPU",
    "colab": {
      "gpuType": "T4",
      "provenance": []
    },
    "kernelspec": {
      "display_name": "Python 3.11.3 64-bit",
      "language": "python",
      "name": "python3"
    },
    "language_info": {
      "codemirror_mode": {
        "name": "ipython",
        "version": 3
      },
      "file_extension": ".py",
      "mimetype": "text/x-python",
      "name": "python",
      "nbconvert_exporter": "python",
      "pygments_lexer": "ipython3",
      "version": "3.11.3"
    },
    "vscode": {
      "interpreter": {
        "hash": "e7370f93d1d0cde622a1f8e1c04877d8463912d04d973331ad4851f04de6915a"
      }
    }
  },
  "nbformat": 4,
  "nbformat_minor": 0
}
